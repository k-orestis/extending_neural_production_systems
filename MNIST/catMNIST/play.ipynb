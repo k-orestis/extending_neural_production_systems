{
 "cells": [
  {
   "cell_type": "code",
   "execution_count": null,
   "metadata": {},
   "outputs": [],
   "source": [
    "!python run_crl.py --algo RIM --train_dataset 'crl' --hidden_size 100 --color False --should_save_csv False --lr 0.0001 --num_blocks 1  --topk 1 --batch_frequency_to_log_heatmaps -1 --num_modules_read_input 2 --inp_heads 1 --do_rel False --share_inp True --share_comm True --share_key_value False --n_templates 0 --num_encoders 1 --version 2 --do_comm False --num_rules 2 --rule_time_steps 1 --version 2 --attention_out 64 --dropout 0 --application_option=3.0.-1 --num_transforms 4 --transform_length 4 --rule_dim 6 --seed 3"
   ]
  }
 ],
 "metadata": {
  "kernelspec": {
   "display_name": "base",
   "language": "python",
   "name": "python3"
  },
  "language_info": {
   "codemirror_mode": {
    "name": "ipython",
    "version": 3
   },
   "file_extension": ".py",
   "mimetype": "text/x-python",
   "name": "python",
   "nbconvert_exporter": "python",
   "pygments_lexer": "ipython3",
   "version": "3.8.18"
  }
 },
 "nbformat": 4,
 "nbformat_minor": 2
}
